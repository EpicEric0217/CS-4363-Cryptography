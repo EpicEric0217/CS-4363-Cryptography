{
 "cells": [
  {
   "cell_type": "code",
   "execution_count": 2,
   "metadata": {},
   "outputs": [],
   "source": [
    "def customEncrypt(inputText, N, D):\n",
    "    encryptedText = \"\"\n",
    "    inputText = inputText[::-1]\n",
    "    for words in inputText:    \n",
    "        if D == +1:\n",
    "            if words.isupper():\n",
    "                pos_u = ord(words) - ord(\"A\")\n",
    "                ascii_val = ((pos_u + N) % 26 + ord(\"A\"))\n",
    "                wordsnew = chr(ascii_val)\n",
    "            elif words.islower():\n",
    "                pos_l = ord(words) - ord(\"a\")\n",
    "                ascii_val = ((pos_l + N) % 26 + ord(\"a\"))\n",
    "                wordsnew = chr(ascii_val)\n",
    "            elif words.isdigit():\n",
    "                ascii_val = (int(words) - N) % 10\n",
    "                wordsnew = str(ascii_val)\n",
    "                \n",
    "        elif D == -1:\n",
    "            if words.isupper():\n",
    "                pos_u = ord(words) - ord(\"A\")\n",
    "                ascii_val = ((pos_u - N) % 26 + ord(\"A\"))\n",
    "                wordsnew = chr(ascii_val)\n",
    "            elif words.islower():\n",
    "                pos_l = ord(words) - ord(\"a\")\n",
    "                ascii_val = ((pos_l - N) % 26 + ord(\"a\"))\n",
    "                wordsnew = chr(ascii_val)\n",
    "            elif words.isdigit():\n",
    "                ascii_val = (int(words) + N) % 10\n",
    "                wordsnew = str(ascii_val)\n",
    "        encryptedText += wordsnew\n",
    "    return (encryptedText)\n",
    "\n",
    "\n"
   ]
  },
  {
   "cell_type": "code",
   "execution_count": 3,
   "metadata": {},
   "outputs": [
    {
     "name": "stdout",
     "output_type": "stream",
     "text": [
      "Enter UserID as text : hurkwduk\n",
      "Enter password as text : 654sphW\n",
      "Enter value of n: 3\n",
      "Enter value of d: -1\n",
      "encrypted userid:  hrathore\n",
      "encrypted password:  Temp789\n",
      "Original userid:  hurkwduk\n",
      "Original passwd:  654sphW\n"
     ]
    }
   ],
   "source": [
    "def testCustomEncrypt():\n",
    "    userid = input(\"Enter UserID as text : \")\n",
    "    passwd = input(\"Enter password as text : \")\n",
    "    N = int(input(\"Enter value of n: \"))\n",
    "    D = int(input(\"Enter value of d: \"))\n",
    "    \n",
    "    if N < 1:\n",
    "        print(\"Please input correct key(N >= 1)  \")\n",
    "        return\n",
    "    elif D not in [-1, +1]:\n",
    "        print(\"please input the correct direction (-1 or +1)\")\n",
    "        return\n",
    "    elif \" \"  in userid or \"!\" in userid or \" \"  in passwd or \"!\" in passwd :\n",
    "        print(\"Plaintext cannot contain '!' or a space\")\n",
    "        return\n",
    "    \n",
    "    enpasswd = customEncrypt(passwd, N, D)\n",
    "    depasswd = customEncrypt(enpasswd, N, D * -1)\n",
    "    enuserid  = customEncrypt(userid, N, D)\n",
    "    deuserid = customEncrypt(enuserid, N, D * -1)\n",
    "    \n",
    "    print(\"encrypted userid: \", enuserid)\n",
    "    print(\"encrypted password: \", enpasswd)\n",
    "    print(\"Original userid: \", deuserid)\n",
    "    print(\"Original passwd: \", depasswd)\n",
    "\n",
    "    \n",
    "testCustomEncrypt()"
   ]
  }
 ],
 "metadata": {
  "kernelspec": {
   "display_name": "Python 3",
   "language": "python",
   "name": "python3"
  },
  "language_info": {
   "codemirror_mode": {
    "name": "ipython",
    "version": 3
   },
   "file_extension": ".py",
   "mimetype": "text/x-python",
   "name": "python",
   "nbconvert_exporter": "python",
   "pygments_lexer": "ipython3",
   "version": "3.8.5"
  }
 },
 "nbformat": 4,
 "nbformat_minor": 4
}
