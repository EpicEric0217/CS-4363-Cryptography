{
 "cells": [
  {
   "cell_type": "code",
   "execution_count": 10,
   "metadata": {},
   "outputs": [],
   "source": [
    "# Function #1\n",
    "def power(a, b, p):\n",
    "    if (b==1):\n",
    "        return a % p\n",
    "    return pow(a,b,p)"
   ]
  },
  {
   "cell_type": "code",
   "execution_count": 11,
   "metadata": {},
   "outputs": [],
   "source": [
    "# Function #2\n",
    "def dh_generatePublicKey(P,G,privateKey):\n",
    "    return power(G,privateKey,P)"
   ]
  },
  {
   "cell_type": "code",
   "execution_count": 12,
   "metadata": {},
   "outputs": [],
   "source": [
    "#Function #3\n",
    "def dh_generateSecretKey(publicKey, privateKey, P):\n",
    "    return power(publicKey, privateKey, P)"
   ]
  },
  {
   "cell_type": "code",
   "execution_count": 15,
   "metadata": {},
   "outputs": [
    {
     "name": "stdout",
     "output_type": "stream",
     "text": [
      "Enter prime number P: 23\n",
      "The value of P: 23\n",
      "Enter G generator of P: 9\n",
      "The value of G: 9\n",
      "Enter private key for Alice: 4\n",
      "The private key a for Alice: 4\n",
      "Enter private key for Bob: 3\n",
      "The private key b for Bob: 3\n",
      "Secret key for the Alice is: 9\n",
      "Secret Key for the Bob is: 9\n"
     ]
    }
   ],
   "source": [
    "# Main Function to run prior functions.\n",
    "def main():\n",
    "    P = 0; G = 0; x = 0; a = x;\n",
    "    y = 0; b = 0;\n",
    "    ka = 0; kb = 0;\n",
    "\n",
    "    # Both the users will be agreed upon the public keys G and P\n",
    "    # P = 23; # A prime number P is taken\n",
    "    P = int(input(\"Enter prime number P: \"))\n",
    "    print(\"The value of P:\", P);\n",
    "\n",
    "    # G = 9; # A primitive root for P, G is taken\n",
    "    G = int(input(\"Enter G generator of P: \"))\n",
    "    print(\"The value of G:\", G);\n",
    "\n",
    "    # Alice will choose the private key a\n",
    "    # a = 4; # a is the chosen private key\n",
    "    a = int(input(\"Enter private key for Alice: \"))\n",
    "    print(\"The private key a for Alice:\", a);\n",
    "    x = dh_generatePublicKey(P,G,a)\n",
    "\n",
    "    # Bob will choose the private key b\n",
    "    # b = 3; # b is the chosen private key\n",
    "    b = int(input(\"Enter private key for Bob: \"))\n",
    "    print(\"The private key b for Bob:\", b);\n",
    "    y = dh_generatePublicKey(P,G,b)\n",
    "\n",
    "    # Generating the secret key after the exchange of keys\n",
    "    ka = dh_generateSecretKey(y,a,P)\n",
    "    kb = dh_generateSecretKey(x,b,P)\n",
    "\n",
    "    print(\"Secret key for the Alice is:\", ka);\n",
    "    print(\"Secret Key for the Bob is:\", kb);\n",
    "\n",
    "if __name__ == '__main__':\n",
    "     main()"
   ]
  }
 ],
 "metadata": {
  "kernelspec": {
   "display_name": "Python 3",
   "language": "python",
   "name": "python3"
  },
  "language_info": {
   "codemirror_mode": {
    "name": "ipython",
    "version": 3
   },
   "file_extension": ".py",
   "mimetype": "text/x-python",
   "name": "python",
   "nbconvert_exporter": "python",
   "pygments_lexer": "ipython3",
   "version": "3.8.5"
  }
 },
 "nbformat": 4,
 "nbformat_minor": 4
}
